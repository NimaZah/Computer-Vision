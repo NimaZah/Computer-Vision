{
  "nbformat": 4,
  "nbformat_minor": 0,
  "metadata": {
    "colab": {
      "name": "Teddy Bear.ipynb",
      "provenance": [],
      "toc_visible": true,
      "authorship_tag": "ABX9TyPVQXPfvfso0Q9lZAfKePQo",
      "include_colab_link": true
    },
    "kernelspec": {
      "name": "python3",
      "display_name": "Python 3"
    },
    "language_info": {
      "name": "python"
    },
    "accelerator": "GPU"
  },
  "cells": [
    {
      "cell_type": "markdown",
      "metadata": {
        "id": "view-in-github",
        "colab_type": "text"
      },
      "source": [
        "<a href=\"https://colab.research.google.com/github/NimaZah/fast/blob/main/Teddy_Bear.ipynb\" target=\"_parent\"><img src=\"https://colab.research.google.com/assets/colab-badge.svg\" alt=\"Open In Colab\"/></a>"
      ]
    },
    {
      "cell_type": "code",
      "source": [
        "!curl -s https://course.fast.ai/setup/colab | bash"
      ],
      "metadata": {
        "colab": {
          "base_uri": "https://localhost:8080/"
        },
        "id": "uPgW4XwhaWv_",
        "outputId": "7049071b-ebe7-4b18-8c0f-200e86985ef8"
      },
      "execution_count": 2,
      "outputs": [
        {
          "output_type": "stream",
          "name": "stdout",
          "text": [
            "bash: line 1: syntax error near unexpected token `newline'\n",
            "bash: line 1: `<!DOCTYPE html>'\n"
          ]
        }
      ]
    },
    {
      "cell_type": "code",
      "source": [
        "!pip install fastai==2.0.13"
      ],
      "metadata": {
        "colab": {
          "base_uri": "https://localhost:8080/",
          "height": 1000
        },
        "id": "lXGPn8tMmrp2",
        "outputId": "0e0376e8-86d6-47ee-c2ca-0c3d117ecae9"
      },
      "execution_count": 18,
      "outputs": [
        {
          "output_type": "stream",
          "name": "stdout",
          "text": [
            "Collecting fastai==2.0.13\n",
            "  Downloading fastai-2.0.13-py3-none-any.whl (355 kB)\n",
            "\u001b[?25l\r\u001b[K     |█                               | 10 kB 28.1 MB/s eta 0:00:01\r\u001b[K     |█▉                              | 20 kB 31.4 MB/s eta 0:00:01\r\u001b[K     |██▊                             | 30 kB 22.6 MB/s eta 0:00:01\r\u001b[K     |███▊                            | 40 kB 17.2 MB/s eta 0:00:01\r\u001b[K     |████▋                           | 51 kB 14.9 MB/s eta 0:00:01\r\u001b[K     |█████▌                          | 61 kB 13.8 MB/s eta 0:00:01\r\u001b[K     |██████▌                         | 71 kB 12.7 MB/s eta 0:00:01\r\u001b[K     |███████▍                        | 81 kB 14.0 MB/s eta 0:00:01\r\u001b[K     |████████▎                       | 92 kB 14.1 MB/s eta 0:00:01\r\u001b[K     |█████████▎                      | 102 kB 12.2 MB/s eta 0:00:01\r\u001b[K     |██████████▏                     | 112 kB 12.2 MB/s eta 0:00:01\r\u001b[K     |███████████                     | 122 kB 12.2 MB/s eta 0:00:01\r\u001b[K     |████████████                    | 133 kB 12.2 MB/s eta 0:00:01\r\u001b[K     |█████████████                   | 143 kB 12.2 MB/s eta 0:00:01\r\u001b[K     |█████████████▉                  | 153 kB 12.2 MB/s eta 0:00:01\r\u001b[K     |██████████████▊                 | 163 kB 12.2 MB/s eta 0:00:01\r\u001b[K     |███████████████▊                | 174 kB 12.2 MB/s eta 0:00:01\r\u001b[K     |████████████████▋               | 184 kB 12.2 MB/s eta 0:00:01\r\u001b[K     |█████████████████▌              | 194 kB 12.2 MB/s eta 0:00:01\r\u001b[K     |██████████████████▌             | 204 kB 12.2 MB/s eta 0:00:01\r\u001b[K     |███████████████████▍            | 215 kB 12.2 MB/s eta 0:00:01\r\u001b[K     |████████████████████▎           | 225 kB 12.2 MB/s eta 0:00:01\r\u001b[K     |█████████████████████▏          | 235 kB 12.2 MB/s eta 0:00:01\r\u001b[K     |██████████████████████▏         | 245 kB 12.2 MB/s eta 0:00:01\r\u001b[K     |███████████████████████         | 256 kB 12.2 MB/s eta 0:00:01\r\u001b[K     |████████████████████████        | 266 kB 12.2 MB/s eta 0:00:01\r\u001b[K     |█████████████████████████       | 276 kB 12.2 MB/s eta 0:00:01\r\u001b[K     |█████████████████████████▉      | 286 kB 12.2 MB/s eta 0:00:01\r\u001b[K     |██████████████████████████▊     | 296 kB 12.2 MB/s eta 0:00:01\r\u001b[K     |███████████████████████████▊    | 307 kB 12.2 MB/s eta 0:00:01\r\u001b[K     |████████████████████████████▋   | 317 kB 12.2 MB/s eta 0:00:01\r\u001b[K     |█████████████████████████████▌  | 327 kB 12.2 MB/s eta 0:00:01\r\u001b[K     |██████████████████████████████▍ | 337 kB 12.2 MB/s eta 0:00:01\r\u001b[K     |███████████████████████████████▍| 348 kB 12.2 MB/s eta 0:00:01\r\u001b[K     |████████████████████████████████| 355 kB 12.2 MB/s \n",
            "\u001b[?25hRequirement already satisfied: pip in /usr/local/lib/python3.7/dist-packages (from fastai==2.0.13) (21.1.3)\n",
            "Requirement already satisfied: matplotlib in /usr/local/lib/python3.7/dist-packages (from fastai==2.0.13) (3.2.2)\n",
            "Requirement already satisfied: pandas in /usr/local/lib/python3.7/dist-packages (from fastai==2.0.13) (1.3.5)\n",
            "Requirement already satisfied: fastprogress>=0.2.4 in /usr/local/lib/python3.7/dist-packages (from fastai==2.0.13) (1.0.0)\n",
            "Requirement already satisfied: scikit-learn in /usr/local/lib/python3.7/dist-packages (from fastai==2.0.13) (1.0.2)\n",
            "Requirement already satisfied: scipy in /usr/local/lib/python3.7/dist-packages (from fastai==2.0.13) (1.4.1)\n",
            "Requirement already satisfied: packaging in /usr/local/lib/python3.7/dist-packages (from fastai==2.0.13) (21.3)\n",
            "Requirement already satisfied: pillow in /usr/local/lib/python3.7/dist-packages (from fastai==2.0.13) (7.1.2)\n",
            "Requirement already satisfied: torchvision>=0.7 in /usr/local/lib/python3.7/dist-packages (from fastai==2.0.13) (0.11.3)\n",
            "Requirement already satisfied: pyyaml in /usr/local/lib/python3.7/dist-packages (from fastai==2.0.13) (3.13)\n",
            "Requirement already satisfied: spacy in /usr/local/lib/python3.7/dist-packages (from fastai==2.0.13) (2.2.4)\n",
            "Requirement already satisfied: torch>=1.6.0 in /usr/local/lib/python3.7/dist-packages (from fastai==2.0.13) (1.10.2)\n",
            "Requirement already satisfied: requests in /usr/local/lib/python3.7/dist-packages (from fastai==2.0.13) (2.23.0)\n",
            "Requirement already satisfied: fastcore>=1.0.5 in /usr/local/lib/python3.7/dist-packages (from fastai==2.0.13) (1.3.27)\n",
            "Requirement already satisfied: numpy in /usr/local/lib/python3.7/dist-packages (from fastprogress>=0.2.4->fastai==2.0.13) (1.19.5)\n",
            "Requirement already satisfied: typing-extensions in /usr/local/lib/python3.7/dist-packages (from torch>=1.6.0->fastai==2.0.13) (3.10.0.2)\n",
            "Requirement already satisfied: kiwisolver>=1.0.1 in /usr/local/lib/python3.7/dist-packages (from matplotlib->fastai==2.0.13) (1.3.2)\n",
            "Requirement already satisfied: cycler>=0.10 in /usr/local/lib/python3.7/dist-packages (from matplotlib->fastai==2.0.13) (0.11.0)\n",
            "Requirement already satisfied: python-dateutil>=2.1 in /usr/local/lib/python3.7/dist-packages (from matplotlib->fastai==2.0.13) (2.8.2)\n",
            "Requirement already satisfied: pyparsing!=2.0.4,!=2.1.2,!=2.1.6,>=2.0.1 in /usr/local/lib/python3.7/dist-packages (from matplotlib->fastai==2.0.13) (3.0.7)\n",
            "Requirement already satisfied: six>=1.5 in /usr/local/lib/python3.7/dist-packages (from python-dateutil>=2.1->matplotlib->fastai==2.0.13) (1.15.0)\n",
            "Requirement already satisfied: pytz>=2017.3 in /usr/local/lib/python3.7/dist-packages (from pandas->fastai==2.0.13) (2018.9)\n",
            "Requirement already satisfied: idna<3,>=2.5 in /usr/local/lib/python3.7/dist-packages (from requests->fastai==2.0.13) (2.10)\n",
            "Requirement already satisfied: urllib3!=1.25.0,!=1.25.1,<1.26,>=1.21.1 in /usr/local/lib/python3.7/dist-packages (from requests->fastai==2.0.13) (1.24.3)\n",
            "Requirement already satisfied: chardet<4,>=3.0.2 in /usr/local/lib/python3.7/dist-packages (from requests->fastai==2.0.13) (3.0.4)\n",
            "Requirement already satisfied: certifi>=2017.4.17 in /usr/local/lib/python3.7/dist-packages (from requests->fastai==2.0.13) (2021.10.8)\n",
            "Requirement already satisfied: threadpoolctl>=2.0.0 in /usr/local/lib/python3.7/dist-packages (from scikit-learn->fastai==2.0.13) (3.1.0)\n",
            "Requirement already satisfied: joblib>=0.11 in /usr/local/lib/python3.7/dist-packages (from scikit-learn->fastai==2.0.13) (1.1.0)\n",
            "Requirement already satisfied: blis<0.5.0,>=0.4.0 in /usr/local/lib/python3.7/dist-packages (from spacy->fastai==2.0.13) (0.4.1)\n",
            "Requirement already satisfied: setuptools in /usr/local/lib/python3.7/dist-packages (from spacy->fastai==2.0.13) (57.4.0)\n",
            "Requirement already satisfied: srsly<1.1.0,>=1.0.2 in /usr/local/lib/python3.7/dist-packages (from spacy->fastai==2.0.13) (1.0.5)\n",
            "Requirement already satisfied: preshed<3.1.0,>=3.0.2 in /usr/local/lib/python3.7/dist-packages (from spacy->fastai==2.0.13) (3.0.6)\n",
            "Requirement already satisfied: plac<1.2.0,>=0.9.6 in /usr/local/lib/python3.7/dist-packages (from spacy->fastai==2.0.13) (1.1.3)\n",
            "Requirement already satisfied: wasabi<1.1.0,>=0.4.0 in /usr/local/lib/python3.7/dist-packages (from spacy->fastai==2.0.13) (0.9.0)\n",
            "Requirement already satisfied: catalogue<1.1.0,>=0.0.7 in /usr/local/lib/python3.7/dist-packages (from spacy->fastai==2.0.13) (1.0.0)\n",
            "Requirement already satisfied: thinc==7.4.0 in /usr/local/lib/python3.7/dist-packages (from spacy->fastai==2.0.13) (7.4.0)\n",
            "Requirement already satisfied: cymem<2.1.0,>=2.0.2 in /usr/local/lib/python3.7/dist-packages (from spacy->fastai==2.0.13) (2.0.6)\n",
            "Requirement already satisfied: murmurhash<1.1.0,>=0.28.0 in /usr/local/lib/python3.7/dist-packages (from spacy->fastai==2.0.13) (1.0.6)\n",
            "Requirement already satisfied: tqdm<5.0.0,>=4.38.0 in /usr/local/lib/python3.7/dist-packages (from spacy->fastai==2.0.13) (4.62.3)\n",
            "Requirement already satisfied: importlib-metadata>=0.20 in /usr/local/lib/python3.7/dist-packages (from catalogue<1.1.0,>=0.0.7->spacy->fastai==2.0.13) (4.10.1)\n",
            "Requirement already satisfied: zipp>=0.5 in /usr/local/lib/python3.7/dist-packages (from importlib-metadata>=0.20->catalogue<1.1.0,>=0.0.7->spacy->fastai==2.0.13) (3.7.0)\n",
            "Installing collected packages: fastai\n",
            "  Attempting uninstall: fastai\n",
            "    Found existing installation: fastai 2.5.3\n",
            "    Uninstalling fastai-2.5.3:\n",
            "      Successfully uninstalled fastai-2.5.3\n",
            "\u001b[31mERROR: pip's dependency resolver does not currently take into account all the packages that are installed. This behaviour is the source of the following dependency conflicts.\n",
            "fastbook 0.0.18 requires fastai>=2.5, but you have fastai 2.0.13 which is incompatible.\u001b[0m\n",
            "Successfully installed fastai-2.0.13\n"
          ]
        },
        {
          "output_type": "display_data",
          "data": {
            "application/vnd.colab-display-data+json": {
              "pip_warning": {
                "packages": [
                  "fastai"
                ]
              }
            }
          },
          "metadata": {}
        }
      ]
    },
    {
      "cell_type": "code",
      "source": [
        "!pip install -Uqq fastbook\n",
        "\n",
        "import fastbook\n",
        "\n",
        "fastbook.setup_book()"
      ],
      "metadata": {
        "colab": {
          "base_uri": "https://localhost:8080/"
        },
        "id": "XKuHdJdhZ0bf",
        "outputId": "50267fd2-c5ac-4bfb-b2f8-29dd3d039bf6"
      },
      "execution_count": 3,
      "outputs": [
        {
          "output_type": "stream",
          "name": "stdout",
          "text": [
            "\u001b[K     |██████████████████████████████▎ | 834.1 MB 1.2 MB/s eta 0:00:39tcmalloc: large alloc 1147494400 bytes == 0x55e249674000 @  0x7f6aa7cf7615 0x55e20fa093bc 0x55e20faea18a 0x55e20fa0c1cd 0x55e20fafeb3d 0x55e20fa80458 0x55e20fa7b02f 0x55e20fa0daba 0x55e20fa802c0 0x55e20fa7b02f 0x55e20fa0daba 0x55e20fa7ccd4 0x55e20faff986 0x55e20fa7c350 0x55e20faff986 0x55e20fa7c350 0x55e20faff986 0x55e20fa7c350 0x55e20fa0df19 0x55e20fa51a79 0x55e20fa0cb32 0x55e20fa801dd 0x55e20fa7b02f 0x55e20fa0daba 0x55e20fa7ccd4 0x55e20fa7b02f 0x55e20fa0daba 0x55e20fa7beae 0x55e20fa0d9da 0x55e20fa7c108 0x55e20fa7b02f\n",
            "\u001b[K     |████████████████████████████████| 881.9 MB 1.8 kB/s \n",
            "\u001b[K     |████████████████████████████████| 23.2 MB 1.5 MB/s \n",
            "\u001b[31mERROR: pip's dependency resolver does not currently take into account all the packages that are installed. This behaviour is the source of the following dependency conflicts.\n",
            "torchtext 0.11.0 requires torch==1.10.0, but you have torch 1.10.2 which is incompatible.\n",
            "torchaudio 0.10.0+cu111 requires torch==1.10.0, but you have torch 1.10.2 which is incompatible.\u001b[0m\n",
            "\u001b[?25h"
          ]
        }
      ]
    },
    {
      "cell_type": "code",
      "source": [
        "from fastai.imports import *"
      ],
      "metadata": {
        "id": "5CO-tdMLc7FH"
      },
      "execution_count": 4,
      "outputs": []
    },
    {
      "cell_type": "code",
      "execution_count": 5,
      "metadata": {
        "id": "AgasArXs3HxT"
      },
      "outputs": [],
      "source": [
        "import pandas as pd \n",
        "import numpy as np \n",
        "import matplotlib.pyplot as plt"
      ]
    },
    {
      "cell_type": "code",
      "source": [
        "#import google drive package\n",
        "from  google.colab import drive"
      ],
      "metadata": {
        "id": "cjRt2mOF3XZI"
      },
      "execution_count": 6,
      "outputs": []
    },
    {
      "cell_type": "code",
      "source": [
        "# connect workbook to google drive folder to access images \n",
        "drive.mount('/content/gdrive')"
      ],
      "metadata": {
        "colab": {
          "base_uri": "https://localhost:8080/"
        },
        "id": "boykv7Bs3ZKR",
        "outputId": "378de763-5003-4f36-a016-c96a51e5b0f4"
      },
      "execution_count": 7,
      "outputs": [
        {
          "output_type": "stream",
          "name": "stdout",
          "text": [
            "Drive already mounted at /content/gdrive; to attempt to forcibly remount, call drive.mount(\"/content/gdrive\", force_remount=True).\n"
          ]
        }
      ]
    },
    {
      "cell_type": "code",
      "source": [
        "path = Path('/content/drive/My Drive/Colab Notebooks/Ai Projects')"
      ],
      "metadata": {
        "id": "poTQ3hrx4w-n"
      },
      "execution_count": 8,
      "outputs": []
    },
    {
      "cell_type": "code",
      "source": [
        "# path_grizzly = path/'grizzly'\n",
        "# path_grizzly.mkdir(parents=True, exist_ok=True)\n",
        "# # create a folder named teddy bear\n",
        "# path_teddy = path/'teddy'\n",
        "# path_teddy.mkdir(parents=True, exist_ok=True)\n"
      ],
      "metadata": {
        "colab": {
          "base_uri": "https://localhost:8080/"
        },
        "id": "6c2qF39Fe65P",
        "outputId": "1bafb974-8af6-4352-e849-e72be39f7555"
      },
      "execution_count": 25,
      "outputs": [
        {
          "output_type": "execute_result",
          "data": {
            "text/plain": [
              "<bound method Path.ls of Path('data/bears')>"
            ]
          },
          "metadata": {},
          "execution_count": 25
        }
      ]
    },
    {
      "cell_type": "code",
      "source": [
        "#save path to project folder \n",
        "root_path = 'gdrive/My Drive/AI_Projects/'"
      ],
      "metadata": {
        "id": "KEszCFdmhSJe"
      },
      "execution_count": 9,
      "outputs": []
    },
    {
      "cell_type": "code",
      "source": [
        "proj_path = 'gdrive/My Drive/AI_Projects/Bears/'"
      ],
      "metadata": {
        "id": "4POEvX99ivh_"
      },
      "execution_count": 10,
      "outputs": []
    },
    {
      "cell_type": "code",
      "source": [
        "folders = ['grizzly','teddy']"
      ],
      "metadata": {
        "id": "ApzbQGhj4gXh"
      },
      "execution_count": 11,
      "outputs": []
    },
    {
      "cell_type": "code",
      "source": [
        "#save fastai path \n",
        "p_path = Path(proj_path)"
      ],
      "metadata": {
        "id": "WnEC-bMg6OLq"
      },
      "execution_count": 20,
      "outputs": []
    },
    {
      "cell_type": "code",
      "source": [
        "# create image data bunch with 80/20 train test split \n",
        "from fastai.vision import *\n",
        "from fastai.metrics import error_rate"
      ],
      "metadata": {
        "id": "dw6BeN9a_O6j"
      },
      "execution_count": 13,
      "outputs": []
    },
    {
      "cell_type": "code",
      "source": [
        "from fastai.vision.data import ImageDataLoaders"
      ],
      "metadata": {
        "id": "UPHU1jL_jxiu"
      },
      "execution_count": 15,
      "outputs": []
    },
    {
      "cell_type": "code",
      "source": [
        "!pip install torch==1.4.0+cu100 torchvision==0.5.0+cu100 -f https://download.pytorch.org/whl/torch_stable.html"
      ],
      "metadata": {
        "id": "MR3tn9bplJmn"
      },
      "execution_count": null,
      "outputs": []
    },
    {
      "cell_type": "code",
      "source": [
        "!curl -s https://course.fast.ai/setup/colab | bash"
      ],
      "metadata": {
        "colab": {
          "base_uri": "https://localhost:8080/"
        },
        "id": "sJ23p_bpnVJY",
        "outputId": "a27eaf88-8dde-4fed-a9d5-7ac4e82a3234"
      },
      "execution_count": 21,
      "outputs": [
        {
          "output_type": "stream",
          "name": "stdout",
          "text": [
            "bash: line 1: syntax error near unexpected token `newline'\n",
            "bash: line 1: `<!DOCTYPE html>'\n"
          ]
        }
      ]
    },
    {
      "cell_type": "code",
      "source": [
        "np.random.seed(42)\n",
        "data = ImageDataBunch.from_folder(path, train=\".\", valid_pct=0.2,\n",
        "        ds_tfms=get_transforms(), size=224, num_workers=4).normalize(imagenet_stats)"
      ],
      "metadata": {
        "colab": {
          "base_uri": "https://localhost:8080/",
          "height": 201
        },
        "id": "uYGVk40Mjq0J",
        "outputId": "314b98bc-3925-4b0a-8b95-dcde179d882a"
      },
      "execution_count": 22,
      "outputs": [
        {
          "output_type": "error",
          "ename": "NameError",
          "evalue": "ignored",
          "traceback": [
            "\u001b[0;31m---------------------------------------------------------------------------\u001b[0m",
            "\u001b[0;31mNameError\u001b[0m                                 Traceback (most recent call last)",
            "\u001b[0;32m<ipython-input-22-73d87b383cfe>\u001b[0m in \u001b[0;36m<module>\u001b[0;34m()\u001b[0m\n\u001b[1;32m      1\u001b[0m \u001b[0mnp\u001b[0m\u001b[0;34m.\u001b[0m\u001b[0mrandom\u001b[0m\u001b[0;34m.\u001b[0m\u001b[0mseed\u001b[0m\u001b[0;34m(\u001b[0m\u001b[0;36m42\u001b[0m\u001b[0;34m)\u001b[0m\u001b[0;34m\u001b[0m\u001b[0;34m\u001b[0m\u001b[0m\n\u001b[0;32m----> 2\u001b[0;31m data = ImageDataBunch.from_folder(path, train=\".\", valid_pct=0.2,\n\u001b[0m\u001b[1;32m      3\u001b[0m         ds_tfms=get_transforms(), size=224, num_workers=4).normalize(imagenet_stats)\n",
            "\u001b[0;31mNameError\u001b[0m: name 'ImageDataBunch' is not defined"
          ]
        }
      ]
    },
    {
      "cell_type": "code",
      "source": [
        "data.classes"
      ],
      "metadata": {
        "id": "tMTC4GDg_cSP"
      },
      "execution_count": null,
      "outputs": []
    },
    {
      "cell_type": "code",
      "source": [
        "#show sample of images \n",
        "data.show_batch(rows=3,figsize=(7,8))"
      ],
      "metadata": {
        "id": "W90hGsuR_e3Z"
      },
      "execution_count": null,
      "outputs": []
    },
    {
      "cell_type": "code",
      "source": [
        "data.classes, data.c, len(data.train_ds), len(data.valid_ds)\n"
      ],
      "metadata": {
        "id": "rMxpjwMN_nwZ"
      },
      "execution_count": null,
      "outputs": []
    },
    {
      "cell_type": "code",
      "source": [
        "#create cnn_learner object\n",
        "# use resnet 34 for transfer learning \n",
        "learn = cnn_learner(data, models.resnet34, metrics=error_rate)"
      ],
      "metadata": {
        "id": "kLB1kLmR_pfp"
      },
      "execution_count": null,
      "outputs": []
    },
    {
      "cell_type": "code",
      "source": [
        "# train 8 epochs of the model \n",
        "learn.fit_one_cycle(8)"
      ],
      "metadata": {
        "id": "DUqOCUxf_rpZ"
      },
      "execution_count": null,
      "outputs": []
    },
    {
      "cell_type": "code",
      "source": [
        "#save model\n",
        "learn.save('model1_34', return_path=True)"
      ],
      "metadata": {
        "id": "xibDt_HBBhxL"
      },
      "execution_count": null,
      "outputs": []
    },
    {
      "cell_type": "code",
      "source": [
        "# unfreeze model. Lets you train earlier layers \n",
        "learn.unfreeze()"
      ],
      "metadata": {
        "id": "u0icmcWSBjSZ"
      },
      "execution_count": null,
      "outputs": []
    },
    {
      "cell_type": "code",
      "source": [
        "#find optimal learning rates \n",
        "learn.lr_find()\n",
        "learn.recorder.plot()"
      ],
      "metadata": {
        "id": "xmw7XYDmBkax"
      },
      "execution_count": null,
      "outputs": []
    },
    {
      "cell_type": "code",
      "source": [
        "for c in folders:\n",
        "    print(c)\n",
        "    verify_images(path/c, delete=True, max_size=500)"
      ],
      "metadata": {
        "id": "jeZV28h1CBDk"
      },
      "execution_count": null,
      "outputs": []
    },
    {
      "cell_type": "code",
      "source": [
        "learn = cnn_learner(data, models.resnet34, metrics=error_rate)"
      ],
      "metadata": {
        "id": "i0vFFIUnCp4b"
      },
      "execution_count": null,
      "outputs": []
    },
    {
      "cell_type": "code",
      "source": [
        "learn.fit_one_cycle(4)"
      ],
      "metadata": {
        "id": "iaqd8Nv6Csyp"
      },
      "execution_count": null,
      "outputs": []
    },
    {
      "cell_type": "code",
      "source": [
        "learn.fit_one_cycle(2, max_lr=slice(3e-5,3e-4))"
      ],
      "metadata": {
        "id": "mivtlVWhC45x"
      },
      "execution_count": null,
      "outputs": []
    }
  ]
}